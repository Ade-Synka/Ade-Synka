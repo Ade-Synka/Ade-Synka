{
 "cells": [
  {
   "cell_type": "code",
   "execution_count": null,
   "id": "7d814ec1",
   "metadata": {},
   "outputs": [],
   "source": [
    "import numpy as np\n",
    "import pandas as pd\n",
    "import os\n",
    "import json"
   ]
  },
  {
   "cell_type": "markdown",
   "id": "0340b71d",
   "metadata": {},
   "source": [
    "Some category selected as they are similar to drugs. and new dataset is created df_drugs.csv.\n",
    "# !!!! the file  is so big it's care about. Read the filtered file if needed."
   ]
  },
  {
   "cell_type": "code",
   "execution_count": null,
   "id": "344ff693",
   "metadata": {},
   "outputs": [],
   "source": [
    "file_path = r'arXiv_Data_files\\archive\\arxiv-metadata-oai-snapshot.json'\n",
    "papers = []\n",
    "with open(file_path , 'r') as f :\n",
    "    for i , line in enumerate(f) : \n",
    "        paper = json.loads(line)\n",
    "        papers.append(paper)\n",
    "\n",
    "df = pd.DataFrame(papers)\n",
    "categories = pd.unique(df.categories)\n",
    "drugs_cats = [\"q-bio.BM\", \"q-bio.MN\", \"q-bio.GN\", \"q-bio.QM\"]\n",
    "df_drugs= df.loc[df['categories'].isin(drugs_cats) ]\n",
    "df_drugs.to_csv('arXiv_Data_files\\df_drugs.csv')"
   ]
  },
  {
   "cell_type": "code",
   "execution_count": null,
   "id": "d2b2ee3b",
   "metadata": {},
   "outputs": [
    {
     "data": {
      "text/plain": [
       "4831"
      ]
     },
     "execution_count": 48,
     "metadata": {},
     "output_type": "execute_result"
    }
   ],
   "source": [
    "# Category   \tMeaning\tRelated \n",
    "###############################\n",
    "# q-bio.BM\t    Biomolecules\n",
    "# q-bio.GN\t    Genomics\t\n",
    "# q-bio.MN\t    Molecular Networks\t\n",
    "# q-bio.QM\t    Quantitative Methods\t"
   ]
  },
  {
   "cell_type": "code",
   "execution_count": null,
   "id": "9285d7cc",
   "metadata": {},
   "outputs": [],
   "source": [
    "df_drugs= pd.read_csv('arXiv_Data_files\\df_drugs.csv')"
   ]
  },
  {
   "cell_type": "code",
   "execution_count": null,
   "id": "792138bb",
   "metadata": {},
   "outputs": [],
   "source": [
    "df_drugs.sort_values('update_date' , ascending=False)\n",
    "df.categories"
   ]
  },
  {
   "cell_type": "code",
   "execution_count": 67,
   "id": "c72d7581",
   "metadata": {},
   "outputs": [],
   "source": [
    "import re\n",
    "import joblib\n",
    "from sklearn.preprocessing import LabelEncoder\n",
    "from sklearn.model_selection import train_test_split\n",
    "from sklearn.linear_model import LogisticRegression\n",
    "from sklearn.metrics import classification_report\n",
    "from sklearn.feature_extraction.text import TfidfVectorizer\n",
    "\n",
    "\n",
    "def clean_text(text):\n",
    "    text = text.lower()\n",
    "    text = re.sub(r'[^a-zA-Z0-9\\s]', '', text)\n",
    "    text = re.sub(r'\\s+', ' ', text)\n",
    "    return text\n",
    "\n",
    "df_drugs['clean_abstract'] = df_drugs['abstract'].apply(clean_text)\n",
    "\n"
   ]
  },
  {
   "cell_type": "code",
   "execution_count": null,
   "id": "318b7c60",
   "metadata": {},
   "outputs": [
    {
     "name": "stdout",
     "output_type": "stream",
     "text": [
      "              precision    recall  f1-score   support\n",
      "\n",
      "    q-bio.BM       0.80      0.88      0.84       232\n",
      "    q-bio.GN       0.82      0.72      0.77       181\n",
      "    q-bio.MN       0.84      0.73      0.78       181\n",
      "    q-bio.QM       0.76      0.81      0.79       373\n",
      "\n",
      "    accuracy                           0.79       967\n",
      "   macro avg       0.80      0.78      0.79       967\n",
      "weighted avg       0.80      0.79      0.79       967\n",
      "\n"
     ]
    }
   ],
   "source": [
    "\n",
    "le = LabelEncoder()\n",
    "df_drugs['label'] = le.fit_transform(df_drugs['categories'])  \n",
    "le.inverse_transform([0])  \n",
    "\n",
    "vectorizer = TfidfVectorizer(max_features=5000)\n",
    "X = vectorizer.fit_transform(df_drugs['clean_abstract'])\n",
    "\n",
    "\n",
    "X_train, X_test, y_train, y_test = train_test_split(X, df_drugs['label'], test_size=0.2, random_state=42)\n",
    "\n",
    "clf = LogisticRegression(max_iter=1000)\n",
    "clf.fit(X_train, y_train)\n",
    "\n",
    "y_pred = clf.predict(X_test)\n",
    "print(classification_report(y_test, y_pred, target_names=le.classes_))"
   ]
  },
  {
   "cell_type": "code",
   "execution_count": 69,
   "id": "413830dd",
   "metadata": {},
   "outputs": [
    {
     "name": "stdout",
     "output_type": "stream",
     "text": [
      "['q-bio.BM']\n"
     ]
    }
   ],
   "source": [
    "joblib.dump(clf, 'classifier.pkl')\n",
    "joblib.dump(vectorizer, 'vectorizer.pkl')\n",
    "joblib.dump(le, 'label_encoder.pkl')\n",
    "\n",
    "text = \"We analyze protein structure using...\"\n",
    "vector = vectorizer.transform([clean_text(text)])\n",
    "label = clf.predict(vector)\n",
    "print(le.inverse_transform(label))  \n"
   ]
  }
 ],
 "metadata": {
  "kernelspec": {
   "display_name": "Graphrag",
   "language": "python",
   "name": "python3"
  },
  "language_info": {
   "codemirror_mode": {
    "name": "ipython",
    "version": 3
   },
   "file_extension": ".py",
   "mimetype": "text/x-python",
   "name": "python",
   "nbconvert_exporter": "python",
   "pygments_lexer": "ipython3",
   "version": "3.10.15"
  }
 },
 "nbformat": 4,
 "nbformat_minor": 5
}
